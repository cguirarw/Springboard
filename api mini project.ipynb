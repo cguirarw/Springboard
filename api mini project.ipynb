{
 "cells": [
  {
   "cell_type": "markdown",
   "metadata": {},
   "source": [
    "This exercise will require you to pull some data from the Qunadl API. Qaundl is currently the most widely used aggregator of financial market data."
   ]
  },
  {
   "cell_type": "markdown",
   "metadata": {},
   "source": [
    "As a first step, you will need to register a free account on the http://www.quandl.com website."
   ]
  },
  {
   "cell_type": "markdown",
   "metadata": {},
   "source": [
    "After you register, you will be provided with a unique API key, that you should store:"
   ]
  },
  {
   "cell_type": "code",
   "execution_count": 1,
   "metadata": {},
   "outputs": [],
   "source": [
    "# Store the API key as a string - according to PEP8, constants are always named in all upper case\n",
    "API_KEY = 'z3hxVcMmtACXFFWWPMJF'"
   ]
  },
  {
   "cell_type": "markdown",
   "metadata": {},
   "source": [
    "Qaundl has a large number of data sources, but, unfortunately, most of them require a Premium subscription. Still, there are also a good number of free datasets."
   ]
  },
  {
   "cell_type": "markdown",
   "metadata": {},
   "source": [
    "For this mini project, we will focus on equities data from the Frankfurt Stock Exhange (FSE), which is available for free. We'll try and analyze the stock prices of a company called Carl Zeiss Meditec, which manufactures tools for eye examinations, as well as medical lasers for laser eye surgery: https://www.zeiss.com/meditec/int/home.html. The company is listed under the stock ticker AFX_X."
   ]
  },
  {
   "cell_type": "markdown",
   "metadata": {},
   "source": [
    "You can find the detailed Quandl API instructions here: https://docs.quandl.com/docs/time-series"
   ]
  },
  {
   "cell_type": "markdown",
   "metadata": {},
   "source": [
    "While there is a dedicated Python package for connecting to the Quandl API, we would prefer that you use the *requests* package, which can be easily downloaded using *pip* or *conda*. You can find the documentation for the package here: http://docs.python-requests.org/en/master/ "
   ]
  },
  {
   "cell_type": "markdown",
   "metadata": {},
   "source": [
    "Finally, apart from the *requests* package, you are encouraged to not use any third party Python packages, such as *pandas*, and instead focus on what's available in the Python Standard Library (the *collections* module might come in handy: https://pymotw.com/3/collections/).\n",
    "Also, since you won't have access to DataFrames, you are encouraged to us Python's native data structures - preferably dictionaries, though some questions can also be answered using lists.\n",
    "You can read more on these data structures here: https://docs.python.org/3/tutorial/datastructures.html"
   ]
  },
  {
   "cell_type": "markdown",
   "metadata": {},
   "source": [
    "Keep in mind that the JSON responses you will be getting from the API map almost one-to-one to Python's dictionaries. Unfortunately, they can be very nested, so make sure you read up on indexing dictionaries in the documentation provided above."
   ]
  },
  {
   "cell_type": "code",
   "execution_count": 2,
   "metadata": {},
   "outputs": [],
   "source": [
    "# First, import the relevant modules\n",
    "\n",
    "import requests\n",
    "import json"
   ]
  },
  {
   "cell_type": "code",
   "execution_count": 3,
   "metadata": {},
   "outputs": [],
   "source": [
    "# Now, call the Quandl API and pull out a small sample of the data (only one day) to get a glimpse\n",
    "# into the JSON structure that will be returned\n",
    "one_day = 'https://www.quandl.com/api/v3/datasets/FSE/AFX_X.json?&start_date=2017-01-01&end_date=2017-01-01&api_key='+'z3hxVcMmtACXFFWWPMJF'\n",
    "rqs = requests.get(one_day)\n",
    "rqs_json = rqs.json()"
   ]
  },
  {
   "cell_type": "code",
   "execution_count": 4,
   "metadata": {},
   "outputs": [
    {
     "data": {
      "text/plain": [
       "{u'dataset': {u'collapse': None,\n",
       "  u'column_index': None,\n",
       "  u'column_names': [u'Date',\n",
       "   u'Open',\n",
       "   u'High',\n",
       "   u'Low',\n",
       "   u'Close',\n",
       "   u'Change',\n",
       "   u'Traded Volume',\n",
       "   u'Turnover',\n",
       "   u'Last Price of the Day',\n",
       "   u'Daily Traded Units',\n",
       "   u'Daily Turnover'],\n",
       "  u'data': [],\n",
       "  u'database_code': u'FSE',\n",
       "  u'database_id': 6129,\n",
       "  u'dataset_code': u'AFX_X',\n",
       "  u'description': u'Stock Prices for Carl Zeiss Meditec (AFX) from the Frankfurt Stock Exchange.<br><br>Trading System: Xetra<br><br>ISIN: DE0005313704',\n",
       "  u'end_date': u'2017-01-01',\n",
       "  u'frequency': u'daily',\n",
       "  u'id': 10095370,\n",
       "  u'limit': None,\n",
       "  u'name': u'Carl Zeiss Meditec (AFX_X)',\n",
       "  u'newest_available_date': u'2018-11-09',\n",
       "  u'oldest_available_date': u'2000-06-07',\n",
       "  u'order': None,\n",
       "  u'premium': False,\n",
       "  u'refreshed_at': u'2018-11-09T22:29:26.334Z',\n",
       "  u'start_date': u'2017-01-01',\n",
       "  u'transform': None,\n",
       "  u'type': u'Time Series'}}"
      ]
     },
     "execution_count": 4,
     "metadata": {},
     "output_type": "execute_result"
    }
   ],
   "source": [
    "# Inspect the JSON structure of the object you created, and take note of how nested it is,\n",
    "# as well as the overall structure\n",
    "rqs_json"
   ]
  },
  {
   "cell_type": "markdown",
   "metadata": {},
   "source": [
    "These are your tasks for this mini project:\n",
    "\n",
    "1. Collect data from the Franfurt Stock Exchange, for the ticker AFX_X, for the whole year 2017 (keep in mind that the date format is YYYY-MM-DD).\n",
    "2. Convert the returned JSON object into a Python dictionary.\n",
    "3. Calculate what the highest and lowest opening prices were for the stock in this period.\n",
    "4. What was the largest change in any one day (based on High and Low price)?\n",
    "5. What was the largest change between any two days (based on Closing Price)?\n",
    "6. What was the average daily trading volume during this year?\n",
    "7. (Optional) What was the median trading volume during this year. (Note: you may need to implement your own function for calculating the median.)"
   ]
  },
  {
   "cell_type": "code",
   "execution_count": 6,
   "metadata": {},
   "outputs": [
    {
     "data": {
      "text/plain": [
       "200"
      ]
     },
     "execution_count": 6,
     "metadata": {},
     "output_type": "execute_result"
    }
   ],
   "source": [
    "link_whole_2017 = 'https://www.quandl.com/api/v3/datasets/FSE/AFX_X.json?&start_date=2017-01-01&end_date=2017-12-31&api_key='+'z3hxVcMmtACXFFWWPMJF'\n",
    "rqs = requests.get(link_whole_2017)\n",
    "\n",
    "rqs.status_code"
   ]
  },
  {
   "cell_type": "code",
   "execution_count": 7,
   "metadata": {},
   "outputs": [
    {
     "data": {
      "text/plain": [
       "dict"
      ]
     },
     "execution_count": 7,
     "metadata": {},
     "output_type": "execute_result"
    }
   ],
   "source": [
    "rqs_json = rqs.json()\n",
    "type(rqs_json)"
   ]
  },
  {
   "cell_type": "code",
   "execution_count": 8,
   "metadata": {},
   "outputs": [
    {
     "data": {
      "text/plain": [
       "[u'dataset']"
      ]
     },
     "execution_count": 8,
     "metadata": {},
     "output_type": "execute_result"
    }
   ],
   "source": [
    "rqs_json.keys()"
   ]
  },
  {
   "cell_type": "code",
   "execution_count": 9,
   "metadata": {},
   "outputs": [
    {
     "data": {
      "text/plain": [
       "[u'dataset_code',\n",
       " u'column_names',\n",
       " u'newest_available_date',\n",
       " u'description',\n",
       " u'end_date',\n",
       " u'data',\n",
       " u'start_date',\n",
       " u'limit',\n",
       " u'transform',\n",
       " u'order',\n",
       " u'refreshed_at',\n",
       " u'frequency',\n",
       " u'database_code',\n",
       " u'oldest_available_date',\n",
       " u'collapse',\n",
       " u'premium',\n",
       " u'database_id',\n",
       " u'column_index',\n",
       " u'type',\n",
       " u'id',\n",
       " u'name']"
      ]
     },
     "execution_count": 9,
     "metadata": {},
     "output_type": "execute_result"
    }
   ],
   "source": [
    "rqs_json['dataset'].keys()"
   ]
  },
  {
   "cell_type": "code",
   "execution_count": 12,
   "metadata": {},
   "outputs": [
    {
     "data": {
      "text/plain": [
       "[u'Date',\n",
       " u'Open',\n",
       " u'High',\n",
       " u'Low',\n",
       " u'Close',\n",
       " u'Change',\n",
       " u'Traded Volume',\n",
       " u'Turnover',\n",
       " u'Last Price of the Day',\n",
       " u'Daily Traded Units',\n",
       " u'Daily Turnover']"
      ]
     },
     "execution_count": 12,
     "metadata": {},
     "output_type": "execute_result"
    }
   ],
   "source": [
    "rqs_json['dataset']['column_names']"
   ]
  },
  {
   "cell_type": "code",
   "execution_count": 13,
   "metadata": {},
   "outputs": [
    {
     "data": {
      "text/plain": [
       "[[u'2017-12-29',\n",
       "  51.76,\n",
       "  51.94,\n",
       "  51.45,\n",
       "  51.76,\n",
       "  None,\n",
       "  34640.0,\n",
       "  1792304.0,\n",
       "  None,\n",
       "  None,\n",
       "  None],\n",
       " [u'2017-12-28',\n",
       "  51.65,\n",
       "  51.82,\n",
       "  51.43,\n",
       "  51.6,\n",
       "  None,\n",
       "  40660.0,\n",
       "  2099024.0,\n",
       "  None,\n",
       "  None,\n",
       "  None]]"
      ]
     },
     "execution_count": 13,
     "metadata": {},
     "output_type": "execute_result"
    }
   ],
   "source": [
    "rqs_json['dataset']['data'][0:2]"
   ]
  },
  {
   "cell_type": "code",
   "execution_count": 23,
   "metadata": {},
   "outputs": [],
   "source": [
    "i_opens = rqs_json['dataset']['column_names'].index('Open')\n"
   ]
  },
  {
   "cell_type": "code",
   "execution_count": 24,
   "metadata": {},
   "outputs": [],
   "source": [
    "i_date = rqs_json['dataset']['column_names'].index('Date')"
   ]
  },
  {
   "cell_type": "code",
   "execution_count": 27,
   "metadata": {},
   "outputs": [],
   "source": [
    "data_handler = rqs_json['dataset']['data']\n",
    "\n",
    "openings = {data_handler[j][i_date] : data_handler[j][i_opens] for j in range(len(data_handler)) if data_handler[j][i_opens] is not None }"
   ]
  },
  {
   "cell_type": "code",
   "execution_count": 28,
   "metadata": {},
   "outputs": [
    {
     "name": "stdout",
     "output_type": "stream",
     "text": [
      "Max and Min Opening Values by Dates: \n",
      "((u'2017-12-14', 53.11), (u'2017-01-24', 34.0))\n"
     ]
    }
   ],
   "source": [
    "import operator\n",
    "\n",
    "mx = max(openings.items(), key=operator.itemgetter(1))\n",
    "mn = min(openings.items(), key=operator.itemgetter(1))\n",
    "\n",
    "\n",
    "print('Max and Min Opening Values by Dates: ')\n",
    "print(mx,mn)"
   ]
  },
  {
   "cell_type": "code",
   "execution_count": 30,
   "metadata": {},
   "outputs": [],
   "source": [
    "i_high = rqs_json['dataset']['column_names'].index('High')"
   ]
  },
  {
   "cell_type": "code",
   "execution_count": 31,
   "metadata": {},
   "outputs": [],
   "source": [
    "i_low = rqs_json['dataset']['column_names'].index('Low')"
   ]
  },
  {
   "cell_type": "code",
   "execution_count": 33,
   "metadata": {},
   "outputs": [],
   "source": [
    "highs = {data_handler[j][i_date] : data_handler[j][i_high] for j in range(len(data_handler)) if data_handler[j][i_high] is not None }\n",
    "\n",
    "\n",
    "# Create a dictionary that has Low values corresponding to each day\n",
    "lows = {data_handler[j][i_date] : data_handler[j][i_low] for j in range(len(data_handler)) if data_handler[j][i_low] is not None }"
   ]
  },
  {
   "cell_type": "code",
   "execution_count": 34,
   "metadata": {},
   "outputs": [],
   "source": [
    "change = {key: highs[key]-lows[key] for key in highs.keys()}\n"
   ]
  },
  {
   "cell_type": "code",
   "execution_count": 36,
   "metadata": {},
   "outputs": [
    {
     "name": "stdout",
     "output_type": "stream",
     "text": [
      "$2.81 is the largest change on 2017-05-11 based on High and Low price\n"
     ]
    }
   ],
   "source": [
    "key, value = max(change.items(), key=lambda x:x[1])\n",
    "print('${} is the largest change on {} based on High and Low price'.format(round(value,2),key))"
   ]
  },
  {
   "cell_type": "code",
   "execution_count": 37,
   "metadata": {},
   "outputs": [],
   "source": [
    "i_close = rqs_json['dataset']['column_names'].index('Close')"
   ]
  },
  {
   "cell_type": "code",
   "execution_count": 38,
   "metadata": {},
   "outputs": [
    {
     "name": "stdout",
     "output_type": "stream",
     "text": [
      "$2.56 is the largest change between any two days\n"
     ]
    }
   ],
   "source": [
    "def largest_change(data):\n",
    "    '''This function finds maximum change between two consecutive days'''\n",
    "    \n",
    "    return max([abs(data[j][i_close]-data[j-1][i_close]) \n",
    "                for j in range(1,len(data)) if data[j][i_close] is not None])\n",
    "\n",
    "\n",
    "print('${} is the largest change between any two days'\\\n",
    "      .format(round(largest_change(data_handler),2)))"
   ]
  },
  {
   "cell_type": "code",
   "execution_count": 39,
   "metadata": {},
   "outputs": [],
   "source": [
    "i_trade = rqs_json['dataset']['column_names'].index('Traded Volume')"
   ]
  },
  {
   "cell_type": "code",
   "execution_count": 41,
   "metadata": {},
   "outputs": [
    {
     "name": "stdout",
     "output_type": "stream",
     "text": [
      "89124.34 is the average daily trading volume during this year\n"
     ]
    }
   ],
   "source": [
    "trading_vol = [data_handler[j][i_trade] for j in range(len(data_handler))]\n",
    "avg_trading_vol = sum(trading_vol)/len(trading_vol)\n",
    "print('{} is the average daily trading volume during this year'\\\n",
    "      .format(round(avg_trading_vol,2)))"
   ]
  },
  {
   "cell_type": "code",
   "execution_count": 47,
   "metadata": {},
   "outputs": [
    {
     "name": "stdout",
     "output_type": "stream",
     "text": [
      "(76286.0, 'is the median trading volume during this year')\n"
     ]
    }
   ],
   "source": [
    "def find_median(values):\n",
    "\n",
    "\n",
    "    sorted_trading_vol = sorted(values, reverse= False)\n",
    "    size = len(sorted_trading_vol)\n",
    "    \n",
    "\n",
    "    if size % 2 == 1:\n",
    "        return sorted_trading_vol[size//2]\n",
    "    else:\n",
    "        return sum(sorted_trading_vol[size//2-1:size//2+1])/2.0\n",
    "    \n",
    "print(find_median(values = trading_vol) , 'is the median trading volume during this year')"
   ]
  },
  {
   "cell_type": "code",
   "execution_count": null,
   "metadata": {},
   "outputs": [],
   "source": []
  },
  {
   "cell_type": "code",
   "execution_count": null,
   "metadata": {},
   "outputs": [],
   "source": []
  }
 ],
 "metadata": {
  "kernelspec": {
   "display_name": "Python 2",
   "language": "python",
   "name": "python2"
  },
  "language_info": {
   "codemirror_mode": {
    "name": "ipython",
    "version": 2
   },
   "file_extension": ".py",
   "mimetype": "text/x-python",
   "name": "python",
   "nbconvert_exporter": "python",
   "pygments_lexer": "ipython2",
   "version": "2.7.15"
  }
 },
 "nbformat": 4,
 "nbformat_minor": 2
}
